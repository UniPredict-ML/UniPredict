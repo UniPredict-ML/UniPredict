{
 "cells": [
  {
   "cell_type": "markdown",
   "id": "b09c84b6",
   "metadata": {},
   "source": [
    "## Start of the ML model training script"
   ]
  },
  {
   "cell_type": "markdown",
   "id": "dc6d5712",
   "metadata": {},
   "source": [
    "### 01. Load the dataset"
   ]
  },
  {
   "cell_type": "code",
   "execution_count": 1,
   "id": "4afe233b",
   "metadata": {},
   "outputs": [
    {
     "name": "stdout",
     "output_type": "stream",
     "text": [
      "Hello world from the jupyter notebook!\n"
     ]
    },
    {
     "data": {
      "text/html": [
       "<div>\n",
       "<style scoped>\n",
       "    .dataframe tbody tr th:only-of-type {\n",
       "        vertical-align: middle;\n",
       "    }\n",
       "\n",
       "    .dataframe tbody tr th {\n",
       "        vertical-align: top;\n",
       "    }\n",
       "\n",
       "    .dataframe thead th {\n",
       "        text-align: right;\n",
       "    }\n",
       "</style>\n",
       "<table border=\"1\" class=\"dataframe\">\n",
       "  <thead>\n",
       "    <tr style=\"text-align: right;\">\n",
       "      <th></th>\n",
       "      <th>Year</th>\n",
       "      <th>District</th>\n",
       "      <th>Programme</th>\n",
       "      <th>Stream</th>\n",
       "      <th>Number</th>\n",
       "      <th>Passed</th>\n",
       "      <th>Z-Score</th>\n",
       "    </tr>\n",
       "  </thead>\n",
       "  <tbody>\n",
       "    <tr>\n",
       "      <th>0</th>\n",
       "      <td>2022</td>\n",
       "      <td>COLOMBO</td>\n",
       "      <td>MEDICINE (University of Colombo)</td>\n",
       "      <td>Bio Science</td>\n",
       "      <td>40329.0</td>\n",
       "      <td>25851.0</td>\n",
       "      <td>2.4516</td>\n",
       "    </tr>\n",
       "    <tr>\n",
       "      <th>1</th>\n",
       "      <td>2022</td>\n",
       "      <td>GAMPAHA</td>\n",
       "      <td>MEDICINE (University of Colombo)</td>\n",
       "      <td>Bio Science</td>\n",
       "      <td>40329.0</td>\n",
       "      <td>25851.0</td>\n",
       "      <td>2.4412</td>\n",
       "    </tr>\n",
       "    <tr>\n",
       "      <th>2</th>\n",
       "      <td>2022</td>\n",
       "      <td>KALUTARA</td>\n",
       "      <td>MEDICINE (University of Colombo)</td>\n",
       "      <td>Bio Science</td>\n",
       "      <td>40329.0</td>\n",
       "      <td>25851.0</td>\n",
       "      <td>2.4446</td>\n",
       "    </tr>\n",
       "    <tr>\n",
       "      <th>3</th>\n",
       "      <td>2022</td>\n",
       "      <td>MATALE</td>\n",
       "      <td>MEDICINE (University of Colombo)</td>\n",
       "      <td>Bio Science</td>\n",
       "      <td>40329.0</td>\n",
       "      <td>25851.0</td>\n",
       "      <td>2.4981</td>\n",
       "    </tr>\n",
       "    <tr>\n",
       "      <th>4</th>\n",
       "      <td>2022</td>\n",
       "      <td>KANDY</td>\n",
       "      <td>MEDICINE (University of Colombo)</td>\n",
       "      <td>Bio Science</td>\n",
       "      <td>40329.0</td>\n",
       "      <td>25851.0</td>\n",
       "      <td>2.5501</td>\n",
       "    </tr>\n",
       "  </tbody>\n",
       "</table>\n",
       "</div>"
      ],
      "text/plain": [
       "   Year  District                         Programme       Stream   Number  \\\n",
       "0  2022   COLOMBO  MEDICINE (University of Colombo)  Bio Science  40329.0   \n",
       "1  2022   GAMPAHA  MEDICINE (University of Colombo)  Bio Science  40329.0   \n",
       "2  2022  KALUTARA  MEDICINE (University of Colombo)  Bio Science  40329.0   \n",
       "3  2022    MATALE  MEDICINE (University of Colombo)  Bio Science  40329.0   \n",
       "4  2022     KANDY  MEDICINE (University of Colombo)  Bio Science  40329.0   \n",
       "\n",
       "    Passed  Z-Score  \n",
       "0  25851.0   2.4516  \n",
       "1  25851.0   2.4412  \n",
       "2  25851.0   2.4446  \n",
       "3  25851.0   2.4981  \n",
       "4  25851.0   2.5501  "
      ]
     },
     "execution_count": 1,
     "metadata": {},
     "output_type": "execute_result"
    }
   ],
   "source": [
    "print(\"Hello world from the jupyter notebook!\")\n",
    "\n",
    "import pandas as pd\n",
    "\n",
    "# Load the dataset\n",
    "df = pd.read_csv(\"final_z_scores_with_sat_data.csv\")\n",
    "\n",
    "# View the first 5 rows\n",
    "df.head()"
   ]
  },
  {
   "cell_type": "markdown",
   "id": "2971d7f0",
   "metadata": {},
   "source": [
    "### 02. Handling the missing values (`NaN`)"
   ]
  },
  {
   "cell_type": "code",
   "execution_count": 2,
   "id": "5f2285d9",
   "metadata": {},
   "outputs": [
    {
     "name": "stdout",
     "output_type": "stream",
     "text": [
      "Stream     5725\n",
      "Number     5725\n",
      "Passed     5725\n",
      "Z-Score    4542\n",
      "dtype: int64\n"
     ]
    }
   ],
   "source": [
    "# Check for missing values in each column\n",
    "missing_values = df.isnull().sum()\n",
    "\n",
    "# Print the number of missing values for each columns\n",
    "print(missing_values[missing_values > 0])"
   ]
  },
  {
   "cell_type": "code",
   "execution_count": 3,
   "id": "5f95ef36",
   "metadata": {},
   "outputs": [
    {
     "name": "stdout",
     "output_type": "stream",
     "text": [
      "Missing values in Number: 0\n",
      "Missing values in Passed: 0\n"
     ]
    }
   ],
   "source": [
    "# Remove the rows where z-score is NaN\n",
    "df.dropna(subset=['Z-Score'], inplace=True)\n",
    "\n",
    "# For other numerical columns, fill the NaN with mean\n",
    "number_mean = df['Number'].mean()\n",
    "passed_mean = df['Passed'].mean()\n",
    "\n",
    "df.loc[df['Number'].isnull(), 'Number'] = number_mean\n",
    "df.loc[df['Passed'].isnull(), 'Passed'] = passed_mean \n",
    "\n",
    "# Verify that the removal is successful\n",
    "print(\"Missing values in Number:\", df['Number'].isnull().sum())\n",
    "print(\"Missing values in Passed:\", df['Passed'].isnull().sum())"
   ]
  },
  {
   "cell_type": "code",
   "execution_count": 4,
   "id": "6d4ceb16",
   "metadata": {},
   "outputs": [
    {
     "name": "stdout",
     "output_type": "stream",
     "text": [
      "Missing values in Steam: 0\n"
     ]
    },
    {
     "name": "stderr",
     "output_type": "stream",
     "text": [
      "/tmp/ipykernel_4543/3150307945.py:3: FutureWarning: A value is trying to be set on a copy of a DataFrame or Series through chained assignment using an inplace method.\n",
      "The behavior will change in pandas 3.0. This inplace method will never work because the intermediate object on which we are setting values always behaves as a copy.\n",
      "\n",
      "For example, when doing 'df[col].method(value, inplace=True)', try using 'df.method({col: value}, inplace=True)' or df[col] = df[col].method(value) instead, to perform the operation inplace on the original object.\n",
      "\n",
      "\n",
      "  df['Stream'].fillna('Unkown', inplace=True)\n"
     ]
    }
   ],
   "source": [
    "# Fill the missing values in the stream column with 'Unknown'\n",
    "if 'Stream' in df.columns and df['Stream'].isnull().any():\n",
    "    df['Stream'].fillna('Unkown', inplace=True)\n",
    "\n",
    "print(\"Missing values in Steam:\", df['Stream'].isnull().sum())"
   ]
  },
  {
   "cell_type": "markdown",
   "id": "73e1d49a",
   "metadata": {},
   "source": [
    "### 03. Feature engineering"
   ]
  },
  {
   "cell_type": "code",
   "execution_count": 5,
   "id": "df846755",
   "metadata": {},
   "outputs": [
    {
     "data": {
      "text/html": [
       "<div>\n",
       "<style scoped>\n",
       "    .dataframe tbody tr th:only-of-type {\n",
       "        vertical-align: middle;\n",
       "    }\n",
       "\n",
       "    .dataframe tbody tr th {\n",
       "        vertical-align: top;\n",
       "    }\n",
       "\n",
       "    .dataframe thead th {\n",
       "        text-align: right;\n",
       "    }\n",
       "</style>\n",
       "<table border=\"1\" class=\"dataframe\">\n",
       "  <thead>\n",
       "    <tr style=\"text-align: right;\">\n",
       "      <th></th>\n",
       "      <th>Number</th>\n",
       "      <th>Passed</th>\n",
       "      <th>Passed_Ratio</th>\n",
       "    </tr>\n",
       "  </thead>\n",
       "  <tbody>\n",
       "    <tr>\n",
       "      <th>0</th>\n",
       "      <td>40329.0</td>\n",
       "      <td>25851.0</td>\n",
       "      <td>0.641003</td>\n",
       "    </tr>\n",
       "    <tr>\n",
       "      <th>1</th>\n",
       "      <td>40329.0</td>\n",
       "      <td>25851.0</td>\n",
       "      <td>0.641003</td>\n",
       "    </tr>\n",
       "    <tr>\n",
       "      <th>2</th>\n",
       "      <td>40329.0</td>\n",
       "      <td>25851.0</td>\n",
       "      <td>0.641003</td>\n",
       "    </tr>\n",
       "    <tr>\n",
       "      <th>3</th>\n",
       "      <td>40329.0</td>\n",
       "      <td>25851.0</td>\n",
       "      <td>0.641003</td>\n",
       "    </tr>\n",
       "    <tr>\n",
       "      <th>4</th>\n",
       "      <td>40329.0</td>\n",
       "      <td>25851.0</td>\n",
       "      <td>0.641003</td>\n",
       "    </tr>\n",
       "  </tbody>\n",
       "</table>\n",
       "</div>"
      ],
      "text/plain": [
       "    Number   Passed  Passed_Ratio\n",
       "0  40329.0  25851.0      0.641003\n",
       "1  40329.0  25851.0      0.641003\n",
       "2  40329.0  25851.0      0.641003\n",
       "3  40329.0  25851.0      0.641003\n",
       "4  40329.0  25851.0      0.641003"
      ]
     },
     "execution_count": 5,
     "metadata": {},
     "output_type": "execute_result"
    }
   ],
   "source": [
    "# Create the passed ratio feature\n",
    "# A small number has added to the denominator to avoid division by zero\n",
    "df['Passed_Ratio'] = df['Passed'] / (df['Number'] + 1e-6)\n",
    "\n",
    "# Display the first few rows with the new column\n",
    "df[['Number', 'Passed', 'Passed_Ratio']].head()"
   ]
  },
  {
   "cell_type": "markdown",
   "id": "80c4189e",
   "metadata": {},
   "source": [
    "### 04. Encode Categorical Features"
   ]
  },
  {
   "cell_type": "code",
   "execution_count": 6,
   "id": "61351b80",
   "metadata": {},
   "outputs": [
    {
     "name": "stdout",
     "output_type": "stream",
     "text": [
      "Original shape: (20383, 8)\n",
      "Shape after one-hot encoding: (20383, 356)\n"
     ]
    }
   ],
   "source": [
    "# Select the categorical columns to encode\n",
    "categorical_cols = ['District', 'Programme', 'Stream']\n",
    "\n",
    "# One-hot encoding\n",
    "df_encoded = pd.get_dummies(df, columns=categorical_cols, drop_first=True)\n",
    "\n",
    "# Display the first five rows\n",
    "print(\"Original shape:\", df.shape)\n",
    "print(\"Shape after one-hot encoding:\", df_encoded.shape)\n",
    "df_encoded.head()\n",
    "\n",
    "# Assign the result back to the main DataFrame\n",
    "df = df_encoded"
   ]
  },
  {
   "cell_type": "markdown",
   "id": "edd7d31b",
   "metadata": {},
   "source": [
    "### 05. Define features and targets"
   ]
  },
  {
   "cell_type": "code",
   "execution_count": 7,
   "id": "f8c0966d",
   "metadata": {},
   "outputs": [
    {
     "name": "stdout",
     "output_type": "stream",
     "text": [
      "Shape of the features (X): (20383, 355)\n",
      "Shape of target (y) (20383,)\n"
     ]
    }
   ],
   "source": [
    "# Define features by droping 'Z-Score' column\n",
    "X = df.drop('Z-Score', axis=1)\n",
    "\n",
    "# Define the target (y)\n",
    "y = df['Z-Score']\n",
    "\n",
    "# Verify\n",
    "print(\"Shape of the features (X):\", X.shape)\n",
    "print(\"Shape of target (y)\", y.shape)"
   ]
  },
  {
   "cell_type": "markdown",
   "id": "32e272a5",
   "metadata": {},
   "source": [
    "### 06. Spliting the train and test sets"
   ]
  },
  {
   "cell_type": "code",
   "execution_count": 9,
   "id": "c96c55fd",
   "metadata": {},
   "outputs": [
    {
     "name": "stdout",
     "output_type": "stream",
     "text": [
      "Training data shape (X_train): (15402, 354)\n",
      "Testing data shape (X_test): (4981, 354)\n",
      "Training target shape (y_train): (15402,)\n",
      "Testing target shape (y_test): (4981,)\n"
     ]
    }
   ],
   "source": [
    "# X contains the 'Year' column\n",
    "# Data split chronologically (older years for train, most recent year for test)\n",
    "\n",
    "# Find the most recent year for test\n",
    "latest_year = X['Year'].max()\n",
    "\n",
    "# Get all the rest years for training\n",
    "X_train = X[X['Year'] < latest_year]\n",
    "y_train = y[X['Year'] < latest_year]\n",
    "\n",
    "# Get the latest year data for the test sets\n",
    "X_test = X[X['Year'] == latest_year]\n",
    "y_test = y[X['Year'] == latest_year]\n",
    "\n",
    "# Drop the year column from features set as it's no longer needed\n",
    "X_train = X_train.drop('Year', axis=1)\n",
    "X_test = X_test.drop('Year', axis=1)\n",
    "\n",
    "# Verify splits\n",
    "print(f\"Training data shape (X_train): {X_train.shape}\")\n",
    "print(f\"Testing data shape (X_test): {X_test.shape}\")\n",
    "print(f\"Training target shape (y_train): {y_train.shape}\")\n",
    "print(f\"Testing target shape (y_test): {y_test.shape}\")"
   ]
  },
  {
   "cell_type": "markdown",
   "id": "98ba2f35",
   "metadata": {},
   "source": [
    "### 07. Train the model"
   ]
  },
  {
   "cell_type": "code",
   "execution_count": 11,
   "id": "d8f6c717",
   "metadata": {},
   "outputs": [
    {
     "name": "stdout",
     "output_type": "stream",
     "text": [
      "Model training complete.\n",
      "Out-Of-Bag R^2 score:  0.8226\n"
     ]
    }
   ],
   "source": [
    "from sklearn.ensemble import RandomForestRegressor\n",
    "\n",
    "# Initiate the Random Forest Classifier\n",
    "# No of trees in the classifier = 100\n",
    "rf_model = RandomForestRegressor(n_estimators=100, random_state=42, oob_score=True)\n",
    "\n",
    "# Train the model\n",
    "rf_model.fit(X_train, y_train)\n",
    "\n",
    "# Print the Out Of Bag score to verify\n",
    "print(f\"Model training complete.\")\n",
    "print(f\"Out-Of-Bag R^2 score: {rf_model.oob_score_: .4f}\")"
   ]
  },
  {
   "cell_type": "markdown",
   "id": "54f4060c",
   "metadata": {},
   "source": [
    "### 08. Evaluate the model"
   ]
  },
  {
   "cell_type": "code",
   "execution_count": 12,
   "id": "ef7c8f05",
   "metadata": {},
   "outputs": [
    {
     "name": "stdout",
     "output_type": "stream",
     "text": [
      "Model Performance on the Test Set:\n",
      "R-Squred (R2): 0.7243\n",
      "Mean Abosulte Error (MAE): 0.1566\n",
      "Root Mean Squared Error (RMSE): 0.2528\n"
     ]
    }
   ],
   "source": [
    "from sklearn.metrics import mean_absolute_error, mean_squared_error, r2_score\n",
    "import numpy as np\n",
    "\n",
    "# Predict on the test data\n",
    "y_pred = rf_model.predict(X_test)\n",
    "\n",
    "# Calculate metrics\n",
    "mae = mean_absolute_error(y_test, y_pred)\n",
    "mse = mean_squared_error(y_test, y_pred)\n",
    "rmse = np.sqrt(mse)\n",
    "r2 = r2_score(y_test, y_pred)\n",
    "\n",
    "# Print the metrics\n",
    "print(\"Model Performance on the Test Set:\")\n",
    "print(f\"R-Squred (R2): {r2:.4f}\")\n",
    "print(f\"Mean Abosulte Error (MAE): {mae:.4f}\")\n",
    "print(f\"Root Mean Squared Error (RMSE): {rmse:.4f}\")"
   ]
  }
 ],
 "metadata": {
  "kernelspec": {
   "display_name": "ml",
   "language": "python",
   "name": "python3"
  },
  "language_info": {
   "codemirror_mode": {
    "name": "ipython",
    "version": 3
   },
   "file_extension": ".py",
   "mimetype": "text/x-python",
   "name": "python",
   "nbconvert_exporter": "python",
   "pygments_lexer": "ipython3",
   "version": "3.13.5"
  }
 },
 "nbformat": 4,
 "nbformat_minor": 5
}
